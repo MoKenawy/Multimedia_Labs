{
 "cells": [
  {
   "cell_type": "markdown",
   "metadata": {},
   "source": [
    "# LZW Compression"
   ]
  },
  {
   "cell_type": "markdown",
   "metadata": {},
   "source": [
    "## Encoder"
   ]
  },
  {
   "cell_type": "markdown",
   "metadata": {},
   "source": [
    "input : base symbol table (dictionary) , sequence of symbols.\n",
    "\n",
    "output: sequence of symbols indices in symbol table"
   ]
  },
  {
   "cell_type": "code",
   "execution_count": 33,
   "metadata": {},
   "outputs": [],
   "source": [
    "import numpy as np\n",
    "import pandas as pd"
   ]
  },
  {
   "cell_type": "code",
   "execution_count": 34,
   "metadata": {},
   "outputs": [],
   "source": [
    "class LZW:\n",
    "    def __init__(self, symbol_table):\n",
    "        self.symbol_table = symbol_table\n",
    "        self.symbol_df = self.make_df(self.symbol_table)\n",
    "        \n",
    "    def get_dict(self):\n",
    "        return self.symbol_table\n",
    "\n",
    "    def get_df(self):\n",
    "        return self.symbol_df\n",
    "    \n",
    "    def make_df(self,symbol_table):\n",
    "        arr = [[k,v] for k, v in symbol_table.items()]\n",
    "        arr = np.array(arr)\n",
    "        column_names = ['Symbol', 'Code']\n",
    "        df = pd.DataFrame(arr, columns= column_names)\n",
    "        return df\n",
    "    \n",
    "    def encode(self,symbols_sequence):\n",
    "        count = 0\n",
    "        output = []\n",
    "        previous = \"\"\n",
    "        # \"aaaaaabbb\"\n",
    "        for i in range(len(symbols_sequence)):\n",
    "            current = symbols_sequence[i]\n",
    "            seq = previous + current\n",
    "            if seq in self.symbol_table:\n",
    "                previous = seq\n",
    "            else:\n",
    "                output.append(self.symbol_table[previous])\n",
    "                self.symbol_table[seq] = 256 + count\n",
    "                previous = current\n",
    "                count += 1\n",
    "        return output\n",
    "    \n",
    "    def decode(self, code_sequence):\n",
    "        count = 0\n",
    "        output = []\n",
    "        previous_symbol = \"\"\n",
    "        for i in range(len(code_sequence)):\n",
    "            current_code = code_sequence.pop(0)\n",
    "            if previous_symbol != \"\":\n",
    "                if previous_symbol[-1] == current_code:\n",
    "                    # duplicates\n",
    "                    new_seq = previous_symbol + previous_symbol[-1]\n",
    "                    output.append(new_seq)\n",
    "                    self.symbol_table[new_seq] = 256 + count\n",
    "                    count += 1\n",
    "                    continue\n",
    "\n",
    "            for symbol, code in self.symbol_table.items():\n",
    "                if current_code == code:\n",
    "                    output.append(symbol)\n",
    "                    if previous_symbol != \"\":\n",
    "                        new_seq = previous_symbol + symbol[0]\n",
    "                        self.symbol_table[new_seq] = 256 + count\n",
    "                        count += 1\n",
    "                    previous_symbol = symbol\n",
    "                    break\n",
    "            \n",
    "        return output\n",
    "\n",
    "\n",
    "    \n"
   ]
  },
  {
   "cell_type": "markdown",
   "metadata": {},
   "source": [
    "### Usage"
   ]
  },
  {
   "cell_type": "code",
   "execution_count": 35,
   "metadata": {},
   "outputs": [],
   "source": [
    "# init_dict = {'a': 0,\n",
    "#              'b': 1,\n",
    "#              'c': 2,\n",
    "#              }\n",
    "\n",
    "\n",
    "init_dict = {'M': 0,\n",
    "             'U': 1,\n",
    "             'L': 2,\n",
    "             'I': 3,\n",
    "             }"
   ]
  },
  {
   "cell_type": "code",
   "execution_count": null,
   "metadata": {},
   "outputs": [],
   "source": []
  },
  {
   "cell_type": "code",
   "execution_count": 36,
   "metadata": {},
   "outputs": [
    {
     "data": {
      "text/html": [
       "<div>\n",
       "<style scoped>\n",
       "    .dataframe tbody tr th:only-of-type {\n",
       "        vertical-align: middle;\n",
       "    }\n",
       "\n",
       "    .dataframe tbody tr th {\n",
       "        vertical-align: top;\n",
       "    }\n",
       "\n",
       "    .dataframe thead th {\n",
       "        text-align: right;\n",
       "    }\n",
       "</style>\n",
       "<table border=\"1\" class=\"dataframe\">\n",
       "  <thead>\n",
       "    <tr style=\"text-align: right;\">\n",
       "      <th></th>\n",
       "      <th>Symbol</th>\n",
       "      <th>Code</th>\n",
       "    </tr>\n",
       "  </thead>\n",
       "  <tbody>\n",
       "    <tr>\n",
       "      <th>0</th>\n",
       "      <td>M</td>\n",
       "      <td>0</td>\n",
       "    </tr>\n",
       "    <tr>\n",
       "      <th>1</th>\n",
       "      <td>U</td>\n",
       "      <td>1</td>\n",
       "    </tr>\n",
       "    <tr>\n",
       "      <th>2</th>\n",
       "      <td>L</td>\n",
       "      <td>2</td>\n",
       "    </tr>\n",
       "    <tr>\n",
       "      <th>3</th>\n",
       "      <td>I</td>\n",
       "      <td>3</td>\n",
       "    </tr>\n",
       "  </tbody>\n",
       "</table>\n",
       "</div>"
      ],
      "text/plain": [
       "  Symbol Code\n",
       "0      M    0\n",
       "1      U    1\n",
       "2      L    2\n",
       "3      I    3"
      ]
     },
     "execution_count": 36,
     "metadata": {},
     "output_type": "execute_result"
    }
   ],
   "source": [
    "lzw = LZW(init_dict)\n",
    "lzw.get_df()"
   ]
  },
  {
   "cell_type": "code",
   "execution_count": 37,
   "metadata": {},
   "outputs": [
    {
     "data": {
      "text/plain": [
       "['M', 'U', 'MU', 'UM', 'I', 'MUU']"
      ]
     },
     "execution_count": 37,
     "metadata": {},
     "output_type": "execute_result"
    }
   ],
   "source": [
    "x = \"aaaaaabbbbaaabc\"\n",
    "\n",
    "code_seq = [0, 1, 256, 257, 3, 258]\n",
    "lzw.decode(code_seq)\n",
    "#lzw.encode(x)"
   ]
  }
 ],
 "metadata": {
  "kernelspec": {
   "display_name": "Python 3",
   "language": "python",
   "name": "python3"
  },
  "language_info": {
   "codemirror_mode": {
    "name": "ipython",
    "version": 3
   },
   "file_extension": ".py",
   "mimetype": "text/x-python",
   "name": "python",
   "nbconvert_exporter": "python",
   "pygments_lexer": "ipython3",
   "version": "3.12.1"
  }
 },
 "nbformat": 4,
 "nbformat_minor": 2
}
