{
 "cells": [
  {
   "cell_type": "code",
   "execution_count": 91,
   "metadata": {},
   "outputs": [],
   "source": [
    "import numpy as np"
   ]
  },
  {
   "cell_type": "code",
   "execution_count": 92,
   "metadata": {},
   "outputs": [],
   "source": [
    "class FractalCompression:\n",
    "    def __init__(self, domain_size,range_size, img = None , decimals = 4):\n",
    "        self.img = img\n",
    "        self.range_size = range_size\n",
    "        self.domain_size = domain_size\n",
    "        self.decimals = decimals\n",
    "\n",
    "    def divide(img):\n",
    "        domain_blocks, range_blocks = []\n",
    "        return domain_blocks, range_blocks\n",
    "    def downsize(block):\n",
    "        ...\n",
    "    def rotate90(self, block, n , clockwise = True):\n",
    "        if clockwise:\n",
    "            axes = (1, 0)\n",
    "        else:\n",
    "            axes = (0,1)\n",
    "        return np.rot90(block, n, axes)\n",
    "        ...\n",
    "    def calc_scale(self, domain_block, range_block):\n",
    "        nominator = (self.range_size * np.sum(domain_block * range_block)) - np.sum(domain_block) * np.sum(range_block)\n",
    "        denominator = (self.range_size* np.sum(np.power(domain_block, 2))) - np.sum(domain_block)**2\n",
    "        scale = nominator / denominator\n",
    "        scale = np.round(scale, decimals=self.decimals)\n",
    "        return scale\n",
    "        ...\n",
    "    def calc_offset(self, domain_block, range_block, scale):\n",
    "        offset = (np.sum(range_block) - (np.sum(domain_block) * scale)) / self.range_size\n",
    "        offset = np.round(offset, decimals=self.decimals)\n",
    "        return offset\n",
    "        ...\n",
    "        \n",
    "    def calc_decompressed_range(self, domain_block, scale, offset):\n",
    "        decompressed_range_block = np.multiply(domain_block, scale) + offset\n",
    "        decompressed_range_block = np.round(decompressed_range_block, decimals=0)\n",
    "        return decompressed_range_block\n",
    "        ...\n",
    "\n",
    "    def calc_abs_error(self, range_block, decompressed_range_block):\n",
    "        return np.sum(np.abs(range_block - decompressed_range_block))\n",
    "        ...\n",
    "\n",
    "\n",
    "    \n"
   ]
  },
  {
   "cell_type": "code",
   "execution_count": 93,
   "metadata": {},
   "outputs": [],
   "source": [
    "domain_size = 8 * 8\n",
    "range_size = 4 * 4\n",
    "\n",
    "\n",
    "\n",
    "fractal = FractalCompression(domain_size = domain_size, range_size = range_size, decimals= 3)\n"
   ]
  },
  {
   "cell_type": "code",
   "execution_count": 94,
   "metadata": {},
   "outputs": [],
   "source": [
    "down_domain_block = [\n",
    "    [10, 7, 6, 6],\n",
    "    [9, 17, 12, 5],\n",
    "    [4, 3, 4, 4],\n",
    "    [4, 3, 5, 4]\n",
    "]\n",
    "\n",
    "down_domain_block = np.array(down_domain_block)\n",
    "\n",
    "range_block = [\n",
    "    [15, 0, 11, 12],\n",
    "    [12, 11, 0, 4],\n",
    "    [11, 1, 1, 1],\n",
    "    [00, 22, 55, 11]\n",
    "]\n",
    "range_block = np.array(range_block)\n",
    "\n",
    "\n"
   ]
  },
  {
   "cell_type": "code",
   "execution_count": 96,
   "metadata": {},
   "outputs": [
    {
     "data": {
      "text/plain": [
       "array([[ 4,  4,  9, 10],\n",
       "       [ 3,  3, 17,  7],\n",
       "       [ 5,  4, 12,  6],\n",
       "       [ 4,  4,  5,  6]])"
      ]
     },
     "execution_count": 96,
     "metadata": {},
     "output_type": "execute_result"
    }
   ],
   "source": [
    "down_domain_block = fractal.rotate90(down_domain_block, 1)"
   ]
  },
  {
   "cell_type": "code",
   "execution_count": null,
   "metadata": {},
   "outputs": [
    {
     "name": "stdout",
     "output_type": "stream",
     "text": [
      "Scale : -0.146\n",
      "Offset : 11.377\n"
     ]
    }
   ],
   "source": [
    "scale = fractal.calc_scale(down_domain_block , range_block)\n",
    "\n",
    "offset = fractal.calc_offset(down_domain_block, range_block, scale)\n",
    "\n",
    "print(f\"Scale : {scale}\")\n",
    "print(f\"Offset : {offset}\")\n"
   ]
  },
  {
   "cell_type": "code",
   "execution_count": null,
   "metadata": {},
   "outputs": [],
   "source": [
    "decompressed_range = fractal.calc_decompressed_range(down_domain_block,scale,offset)"
   ]
  },
  {
   "cell_type": "code",
   "execution_count": null,
   "metadata": {},
   "outputs": [
    {
     "name": "stdout",
     "output_type": "stream",
     "text": [
      "Absolute error : 133.0\n"
     ]
    }
   ],
   "source": [
    "abs_err = fractal.calc_abs_error(decompressed_range,range_block)\n",
    "print(f\"Absolute error : {abs_err}\")"
   ]
  }
 ],
 "metadata": {
  "kernelspec": {
   "display_name": "Python 3",
   "language": "python",
   "name": "python3"
  },
  "language_info": {
   "codemirror_mode": {
    "name": "ipython",
    "version": 3
   },
   "file_extension": ".py",
   "mimetype": "text/x-python",
   "name": "python",
   "nbconvert_exporter": "python",
   "pygments_lexer": "ipython3",
   "version": "3.12.1"
  }
 },
 "nbformat": 4,
 "nbformat_minor": 2
}
