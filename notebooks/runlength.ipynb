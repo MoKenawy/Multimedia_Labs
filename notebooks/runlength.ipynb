{
 "cells": [
  {
   "cell_type": "code",
   "execution_count": 69,
   "metadata": {},
   "outputs": [],
   "source": [
    "import heapq\n",
    "from collections import defaultdict\n",
    "\n",
    "# Define compression functions\n",
    "def compress_rle(text):\n",
    "    compressed_text = []\n",
    "    count = 0\n",
    "    for i in range(1, len(text)):\n",
    "        if text[i] == text[i - 1] and count < RUN_LENGTH:\n",
    "            count += 1\n",
    "        else:\n",
    "            compressed_text.append((text[i - 1], count ))  # Length starts from 0\n",
    "            count = 0\n",
    "    # Append the last symbol with its count\n",
    "    compressed_text.append((text[-1], count))\n",
    "    return compressed_text\n"
   ]
  },
  {
   "cell_type": "code",
   "execution_count": 70,
   "metadata": {},
   "outputs": [],
   "source": [
    "# Define decompression functions\n",
    "def decompress_rle(compressed_text):\n",
    "    decompressed_text = ''\n",
    "    for symbol, length in compressed_text:\n",
    "        decompressed_text += symbol * (length + 1)  # Increment length to match RLE format\n",
    "    return decompressed_text"
   ]
  },
  {
   "cell_type": "code",
   "execution_count": null,
   "metadata": {},
   "outputs": [],
   "source": [
    "RUN_BITS = 2\n",
    "RUN_LENGTH = 2**RUN_BITS\n",
    "\n",
    "text = \"AAABBBCCDAA\"\n"
   ]
  },
  {
   "cell_type": "code",
   "execution_count": 74,
   "metadata": {},
   "outputs": [
    {
     "name": "stdout",
     "output_type": "stream",
     "text": [
      "Compressed text: [('A', 2), ('A', 1), ('B', 2), ('C', 1), ('D', 0), ('A', 1)]\n",
      "Decompressed text: AAAAABBBCCDAA\n"
     ]
    }
   ],
   "source": [
    "#Ex form of compressed text: [('A', 2), ('B', 2), ('C', 1), ('D', 0), ('A', 1)]\n",
    "# Test the RLE compression and decompression\n",
    "\n",
    "compressed_text = compress_rle(text)\n",
    "print(\"Compressed text:\", compressed_text)\n",
    "\n",
    "decompressed_text = decompress_rle(compressed_text)\n",
    "print(\"Decompressed text:\", decompressed_text)"
   ]
  }
 ],
 "metadata": {
  "kernelspec": {
   "display_name": "Python 3",
   "language": "python",
   "name": "python3"
  },
  "language_info": {
   "codemirror_mode": {
    "name": "ipython",
    "version": 3
   },
   "file_extension": ".py",
   "mimetype": "text/x-python",
   "name": "python",
   "nbconvert_exporter": "python",
   "pygments_lexer": "ipython3",
   "version": "3.10.8"
  }
 },
 "nbformat": 4,
 "nbformat_minor": 2
}
