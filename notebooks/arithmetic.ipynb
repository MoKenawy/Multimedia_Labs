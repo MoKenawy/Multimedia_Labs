{
 "cells": [
  {
   "cell_type": "code",
   "execution_count": 43,
   "metadata": {},
   "outputs": [],
   "source": [
    "import numpy as np\n",
    "import pandas as pd"
   ]
  },
  {
   "cell_type": "code",
   "execution_count": 44,
   "metadata": {},
   "outputs": [],
   "source": [
    "def init_ranges(data,cumulative):\n",
    "    ranges = []\n",
    "    for i in range(len(data)):\n",
    "        symbol_range = []\n",
    "        symbol_range.append(data[i][0])\n",
    "        if i > 0:\n",
    "            min_range = cumulative[i-1]\n",
    "        else:\n",
    "            min_range = 0\n",
    "\n",
    "        max_range = cumulative[i]\n",
    "        symbol_range.append(min_range)\n",
    "        symbol_range.append(max_range)\n",
    "        ranges.append(symbol_range)\n",
    "    return ranges\n",
    "\n"
   ]
  },
  {
   "cell_type": "code",
   "execution_count": 45,
   "metadata": {},
   "outputs": [],
   "source": [
    "def show_ranges(ranges):\n",
    "    ranges_df = pd.DataFrame(ranges,columns=['Symbol','start range', 'end range'])\n",
    "    print(\"------------ RANGES ------------\")\n",
    "    print(ranges_df)\n",
    "    \n"
   ]
  },
  {
   "cell_type": "code",
   "execution_count": 46,
   "metadata": {},
   "outputs": [],
   "source": [
    "def update_ranges(old_ranges,new_start, new_end,DECIMALS=5):\n",
    "    #new val(C(s)) = new_start + C(s) * delta\n",
    "    delta = float(new_end) - float(new_start)\n",
    "    ranges = np.copy(old_ranges)\n",
    "    for x in ranges:\n",
    "        # symbol = x[0]\n",
    "        old_min = np.round(float(x[1]),decimals= DECIMALS)\n",
    "        old_max = np.round(float(x[2]),decimals= DECIMALS)\n",
    "\n",
    "        new_min = float(new_start) + float(old_min) * delta\n",
    "        new_min = np.round(new_min, decimals= DECIMALS)\n",
    "        new_max = float(new_start) + float(old_max) * delta\n",
    "        new_max = np.round(new_max, decimals= DECIMALS)\n",
    "\n",
    "        x[1] = new_min\n",
    "        x[2] = new_max\n",
    "\n",
    "    return ranges"
   ]
  },
  {
   "cell_type": "code",
   "execution_count": 47,
   "metadata": {},
   "outputs": [],
   "source": [
    "def encode_arithmetic(file, ranges, DECIMALS = 5):\n",
    "    current_min_code = -1\n",
    "    current_max_code = -1\n",
    "    \n",
    "    init_ranges = np.copy(ranges)\n",
    "    current_ranges = init_ranges\n",
    "    for char in file:\n",
    "        for x in current_ranges:\n",
    "            symbol = x[0]\n",
    "            min_range = np.round(float(x[1]),decimals= DECIMALS)\n",
    "            max_range = np.round(float(x[2]),decimals= DECIMALS)\n",
    "            if symbol == char:\n",
    "                print(f\"symbol: {symbol} \\nmin= {min_range}\\nmax = {max_range}\")\n",
    "                current_min_code = min_range\n",
    "                current_max_code = max_range\n",
    "                current_ranges = update_ranges(init_ranges, min_range, max_range)\n",
    "                show_ranges(current_ranges)\n",
    "                print(\"==============================================\")\n",
    "    print(\"END\")\n",
    "    return current_min_code, current_max_code\n"
   ]
  },
  {
   "cell_type": "code",
   "execution_count": 48,
   "metadata": {},
   "outputs": [],
   "source": [
    "def arithmetic_to_binary(num, min_range, max_range):\n",
    "    binary_string = \"0.\"\n",
    "    x = 0\n",
    "    counter = -1\n",
    "    while(True):\n",
    "        num = num * 2\n",
    "        int_part = int(num)\n",
    "        num -= int_part\n",
    "        x += int_part * 2**(counter)\n",
    "        binary_string += str(int_part)\n",
    "        if (x > min_range and x < max_range):\n",
    "            break\n",
    "        counter -= 1\n",
    "        print(x)\n",
    "    return binary_string"
   ]
  },
  {
   "cell_type": "markdown",
   "metadata": {},
   "source": [
    "### Usage"
   ]
  },
  {
   "cell_type": "code",
   "execution_count": 49,
   "metadata": {},
   "outputs": [],
   "source": [
    "# data = [(symbol, count), ... ()]\n",
    "\n",
    "#data = [('A',100), ('B', 100), ('C',100), ('D',500), ('E',200), ('F',100), ('G',50), ('H',50)]\n",
    "#data = [('A',0.2), ('B', 0.3), ('C',0.25), ('D',0.25)]\n",
    "#data = [('A',0.05), ('B', 0.1), ('C',0.1), ('D',0.25), ('E',0.5)]\n",
    "\n",
    "data = [('A',100), ('B', 100), ('C',100), ('D',800), ('E',200) , ('F',100), ('G',50), ('H',50) ]\n",
    "\n",
    "\n",
    "\n",
    "# "
   ]
  },
  {
   "cell_type": "code",
   "execution_count": 50,
   "metadata": {},
   "outputs": [
    {
     "name": "stdout",
     "output_type": "stream",
     "text": [
      "[('G', 50), ('H', 50), ('A', 100), ('B', 100), ('C', 100), ('F', 100), ('E', 200), ('D', 800)]\n"
     ]
    }
   ],
   "source": [
    "data.sort(key=lambda a: a[1])\n",
    "print(data)"
   ]
  },
  {
   "cell_type": "code",
   "execution_count": 51,
   "metadata": {},
   "outputs": [],
   "source": [
    "freq = [count for symbol,count in data]\n",
    "prob = freq / np.sum(freq)\n",
    "cumulative = np.cumsum(prob)\n",
    "#cumulative = [0.4, 0.7, 1]\n"
   ]
  },
  {
   "cell_type": "code",
   "execution_count": 52,
   "metadata": {},
   "outputs": [
    {
     "name": "stdout",
     "output_type": "stream",
     "text": [
      "------------ RANGES ------------\n",
      "  Symbol  start range  end range\n",
      "0      G     0.000000   0.033333\n",
      "1      H     0.033333   0.066667\n",
      "2      A     0.066667   0.133333\n",
      "3      B     0.133333   0.200000\n",
      "4      C     0.200000   0.266667\n",
      "5      F     0.266667   0.333333\n",
      "6      E     0.333333   0.466667\n",
      "7      D     0.466667   1.000000\n"
     ]
    }
   ],
   "source": [
    "init_r = init_ranges(data,cumulative)\n",
    "show_ranges(init_r)"
   ]
  },
  {
   "cell_type": "code",
   "execution_count": 53,
   "metadata": {},
   "outputs": [
    {
     "name": "stdout",
     "output_type": "stream",
     "text": [
      "symbol: D \n",
      "min= 0.467\n",
      "max = 1.0\n",
      "------------ RANGES ------------\n",
      "  Symbol start range end range\n",
      "0      G       0.467   0.48476\n",
      "1      H     0.48476   0.50254\n",
      "2      A     0.50254   0.53806\n",
      "3      B     0.53806    0.5736\n",
      "4      C      0.5736   0.60914\n",
      "5      F     0.60914   0.64466\n",
      "6      E     0.64466   0.71574\n",
      "7      D     0.71574       1.0\n",
      "==============================================\n",
      "symbol: F \n",
      "min= 0.609\n",
      "max = 0.645\n",
      "------------ RANGES ------------\n",
      "  Symbol start range end range\n",
      "0      G       0.609    0.6102\n",
      "1      H      0.6102    0.6114\n",
      "2      A      0.6114    0.6138\n",
      "3      B      0.6138    0.6162\n",
      "4      C      0.6162    0.6186\n",
      "5      F      0.6186     0.621\n",
      "6      E       0.621    0.6258\n",
      "7      D      0.6258     0.645\n",
      "==============================================\n",
      "symbol: G \n",
      "min= 0.609\n",
      "max = 0.61\n",
      "------------ RANGES ------------\n",
      "  Symbol start range end range\n",
      "0      G       0.609   0.60903\n",
      "1      H     0.60903   0.60907\n",
      "2      A     0.60907   0.60913\n",
      "3      B     0.60913    0.6092\n",
      "4      C      0.6092   0.60927\n",
      "5      F     0.60927   0.60933\n",
      "6      E     0.60933   0.60947\n",
      "7      D     0.60947      0.61\n",
      "==============================================\n",
      "END\n"
     ]
    }
   ],
   "source": [
    "file = \"DFG\"\n",
    "min_code, max_code = encode_arithmetic(file,init_r,DECIMALS= 3)"
   ]
  },
  {
   "cell_type": "code",
   "execution_count": 54,
   "metadata": {},
   "outputs": [
    {
     "name": "stdout",
     "output_type": "stream",
     "text": [
      "Arithmetic code for \"DFG\": \n",
      "\tminimum: 0.609, \n",
      "\tmaximum: 0.61\n",
      "Code (average) = 0.6094999999999999\n"
     ]
    }
   ],
   "source": [
    "print(f\"Arithmetic code for \\\"{file}\\\": \\n\\tminimum: {min_code}, \\n\\tmaximum: {max_code}\")\n",
    "code = (min_code + max_code) / 2\n",
    "print(f\"Code (average) = {code}\")"
   ]
  },
  {
   "cell_type": "markdown",
   "metadata": {},
   "source": [
    "### converting Float to binary code"
   ]
  },
  {
   "cell_type": "code",
   "execution_count": 55,
   "metadata": {},
   "outputs": [
    {
     "name": "stdout",
     "output_type": "stream",
     "text": [
      "0.5\n",
      "0.5\n",
      "0.5\n",
      "0.5625\n",
      "0.59375\n",
      "binary code = 0.100111\n"
     ]
    }
   ],
   "source": [
    "binary_code = arithmetic_to_binary(code, min_code, max_code)\n",
    "print(f\"binary code = {binary_code}\")"
   ]
  },
  {
   "cell_type": "markdown",
   "metadata": {},
   "source": [
    "## Decoding"
   ]
  },
  {
   "cell_type": "code",
   "execution_count": 56,
   "metadata": {},
   "outputs": [],
   "source": [
    "binary_code = '0.101100'"
   ]
  },
  {
   "cell_type": "code",
   "execution_count": 57,
   "metadata": {},
   "outputs": [
    {
     "data": {
      "text/plain": [
       "'101100'"
      ]
     },
     "execution_count": 57,
     "metadata": {},
     "output_type": "execute_result"
    }
   ],
   "source": [
    "str_code = binary_code.split('.')[1]\n",
    "list(str_code)\n",
    "str_code"
   ]
  },
  {
   "cell_type": "code",
   "execution_count": 58,
   "metadata": {},
   "outputs": [
    {
     "name": "stdout",
     "output_type": "stream",
     "text": [
      "number in decimals = 0.6875\n"
     ]
    }
   ],
   "source": [
    "#works only on fractions\n",
    "def bincode_to_decimal(code):\n",
    "    str_code = binary_code.split('.')[1]\n",
    "    number=0\n",
    "    power = -1\n",
    "    for digit in str_code:\n",
    "        if int(digit) == 1:\n",
    "            number += 2** power\n",
    "        power -= 1\n",
    "    return number\n",
    "decimal_code = bincode_to_decimal(str_code)\n",
    "print(f\"number in decimals = {decimal_code}\")"
   ]
  },
  {
   "cell_type": "code",
   "execution_count": 73,
   "metadata": {},
   "outputs": [],
   "source": [
    "def decode_arithmetic(code,ranges):\n",
    "    init_ranges = np.copy(ranges)\n",
    "    current_ranges = init_ranges\n",
    "\n",
    "    decoded_string = \"\"\n",
    "    SEQUENCE_LENGTH = 3\n",
    "    COUNT = 0\n",
    "    while True:\n",
    "        for x in current_ranges:\n",
    "            symbol = x[0]\n",
    "            min_range = float(x[1])\n",
    "            max_range = float(x[2])\n",
    "            if  ((code >= min_range) and (code < max_range)):\n",
    "                COUNT += 1\n",
    "                print(f\"decoded_symbol: {symbol} \\nmin= {min_range}\\nmax = {max_range}\")\n",
    "                decoded_string += symbol\n",
    "                current_ranges = update_ranges(init_ranges, min_range, max_range)\n",
    "                show_ranges(current_ranges)\n",
    "\n",
    "                print(\"==============================================\")\n",
    "                if np.round(((min_range + max_range) / 2), decimals= 5) == np.round(code,decimals=5):\n",
    "                    print(\"END\")\n",
    "                    return decoded_string\n",
    "            if COUNT == SEQUENCE_LENGTH:\n",
    "                return decoded_string\n",
    "\n"
   ]
  },
  {
   "cell_type": "code",
   "execution_count": 74,
   "metadata": {},
   "outputs": [
    {
     "name": "stdout",
     "output_type": "stream",
     "text": [
      "decoded_symbol: D \n",
      "min= 0.4666666666666667\n",
      "max = 1.0\n",
      "------------ RANGES ------------\n",
      "  Symbol start range end range\n",
      "0      G     0.46667   0.48444\n",
      "1      H     0.48444   0.50222\n",
      "2      A     0.50222   0.53778\n",
      "3      B     0.53778   0.57333\n",
      "4      C     0.57333   0.60889\n",
      "5      F     0.60889   0.64444\n",
      "6      E     0.64444   0.71556\n",
      "7      D     0.71556       1.0\n",
      "==============================================\n",
      "decoded_symbol: E \n",
      "min= 0.64444\n",
      "max = 0.71556\n",
      "------------ RANGES ------------\n",
      "  Symbol start range end range\n",
      "0      G     0.64444   0.64681\n",
      "1      H     0.64681   0.64918\n",
      "2      A     0.64918   0.65392\n",
      "3      B     0.65392   0.65866\n",
      "4      C     0.65866   0.66341\n",
      "5      F     0.66341   0.66815\n",
      "6      E     0.66815   0.67763\n",
      "7      D     0.67763   0.71556\n",
      "==============================================\n",
      "decoded_symbol: D \n",
      "min= 0.67763\n",
      "max = 0.71556\n",
      "------------ RANGES ------------\n",
      "  Symbol start range end range\n",
      "0      G     0.67763   0.67889\n",
      "1      H     0.67889   0.68016\n",
      "2      A     0.68016   0.68269\n",
      "3      B     0.68269   0.68522\n",
      "4      C     0.68522   0.68774\n",
      "5      F     0.68774   0.69027\n",
      "6      E     0.69027   0.69533\n",
      "7      D     0.69533   0.71556\n",
      "==============================================\n",
      "==============================================\n",
      "Decoded String : DED\n"
     ]
    }
   ],
   "source": [
    "decoded_string = decode_arithmetic(decimal_code,init_r)\n",
    "print(\"==============================================\")\n",
    "\n",
    "print(f\"Decoded String : {decoded_string}\")"
   ]
  },
  {
   "cell_type": "markdown",
   "metadata": {},
   "source": [
    "### To DO\n",
    "\n",
    "handling Forced Exit problem in Decoding"
   ]
  }
 ],
 "metadata": {
  "kernelspec": {
   "display_name": "Python 3",
   "language": "python",
   "name": "python3"
  },
  "language_info": {
   "codemirror_mode": {
    "name": "ipython",
    "version": 3
   },
   "file_extension": ".py",
   "mimetype": "text/x-python",
   "name": "python",
   "nbconvert_exporter": "python",
   "pygments_lexer": "ipython3",
   "version": "3.12.1"
  }
 },
 "nbformat": 4,
 "nbformat_minor": 2
}
