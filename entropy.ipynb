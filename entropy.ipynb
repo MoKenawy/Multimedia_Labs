{
 "cells": [
  {
   "cell_type": "code",
   "execution_count": 1,
   "metadata": {},
   "outputs": [],
   "source": [
    "import numpy as np\n",
    "import pandas as pd"
   ]
  },
  {
   "cell_type": "code",
   "execution_count": 9,
   "metadata": {},
   "outputs": [],
   "source": [
    "\n",
    "def clac_entropy(freq):\n",
    "    prob = freq/np.sum(freq)\n",
    "    self_info = -np.log2(prob)\n",
    "    entropy = np.sum(prob * self_info)\n",
    "    return entropy\n"
   ]
  },
  {
   "cell_type": "code",
   "execution_count": 16,
   "metadata": {},
   "outputs": [
    {
     "name": "stdout",
     "output_type": "stream",
     "text": [
      "Entropy(H) = 0.994\n",
      "Number of bits needed = 1.0\n"
     ]
    }
   ],
   "source": [
    "freq = [17, 2, 3]\n",
    "\n",
    "entropy = clac_entropy(freq)\n",
    "entropy = np.round(entropy, decimals= 3)\n",
    "print(f\"Entropy(H) = {entropy}\")\n",
    "print(f\"Number of bits needed = {np.ceil(entropy)}\")"
   ]
  }
 ],
 "metadata": {
  "kernelspec": {
   "display_name": "Python 3",
   "language": "python",
   "name": "python3"
  },
  "language_info": {
   "codemirror_mode": {
    "name": "ipython",
    "version": 3
   },
   "file_extension": ".py",
   "mimetype": "text/x-python",
   "name": "python",
   "nbconvert_exporter": "python",
   "pygments_lexer": "ipython3",
   "version": "3.10.8"
  }
 },
 "nbformat": 4,
 "nbformat_minor": 2
}
