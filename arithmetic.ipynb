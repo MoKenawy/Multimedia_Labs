{
 "cells": [
  {
   "cell_type": "code",
   "execution_count": 202,
   "metadata": {},
   "outputs": [],
   "source": [
    "import numpy as np\n",
    "import pandas as pd"
   ]
  },
  {
   "cell_type": "code",
   "execution_count": 203,
   "metadata": {},
   "outputs": [],
   "source": [
    "def init_ranges(data,cumulative):\n",
    "    ranges = []\n",
    "    for i in range(len(data)):\n",
    "        symbol_range = []\n",
    "        symbol_range.append(data[i][0])\n",
    "        if i > 0:\n",
    "            min_range = cumulative[i-1]\n",
    "        else:\n",
    "            min_range = 0\n",
    "\n",
    "        max_range = cumulative[i]\n",
    "        symbol_range.append(min_range)\n",
    "        symbol_range.append(max_range)\n",
    "        ranges.append(symbol_range)\n",
    "    return ranges\n",
    "\n"
   ]
  },
  {
   "cell_type": "code",
   "execution_count": 204,
   "metadata": {},
   "outputs": [],
   "source": [
    "def show_ranges(ranges):\n",
    "    ranges_df = pd.DataFrame(ranges,columns=['Symbol','start range', 'end range'])\n",
    "    print(\"------------ RANGES ------------\")\n",
    "    print(ranges_df)\n",
    "    \n"
   ]
  },
  {
   "cell_type": "code",
   "execution_count": 205,
   "metadata": {},
   "outputs": [],
   "source": [
    "def update_ranges(old_ranges,new_start, new_end,DECIMALS=5):\n",
    "    #new val(C(s)) = new_start + C(s) * delta\n",
    "    delta = float(new_end) - float(new_start)\n",
    "    ranges = np.copy(old_ranges)\n",
    "    for x in ranges:\n",
    "        # symbol = x[0]\n",
    "        old_min = np.round(float(x[1]),decimals= DECIMALS)\n",
    "        old_max = np.round(float(x[2]),decimals= DECIMALS)\n",
    "\n",
    "        new_min = float(new_start) + float(old_min) * delta\n",
    "        new_min = np.round(new_min, decimals= DECIMALS)\n",
    "        new_max = float(new_start) + float(old_max) * delta\n",
    "        new_max = np.round(new_max, decimals= DECIMALS)\n",
    "\n",
    "        x[1] = new_min\n",
    "        x[2] = new_max\n",
    "\n",
    "    return ranges"
   ]
  },
  {
   "cell_type": "code",
   "execution_count": 206,
   "metadata": {},
   "outputs": [],
   "source": [
    "def encode_arithmetic(file, ranges, DECIMALS = 5):\n",
    "    current_min_code = -1\n",
    "    current_max_code = -1\n",
    "    \n",
    "    init_ranges = np.copy(ranges)\n",
    "    current_ranges = init_ranges\n",
    "    for char in file:\n",
    "        for x in current_ranges:\n",
    "            symbol = x[0]\n",
    "            min_range = np.round(float(x[1]),decimals= DECIMALS)\n",
    "            max_range = np.round(float(x[2]),decimals= DECIMALS)\n",
    "            if symbol == char:\n",
    "                print(f\"symbol: {symbol} \\nmin= {min_range}\\nmax = {max_range}\")\n",
    "                current_min_code = min_range\n",
    "                current_max_code = max_range\n",
    "                current_ranges = update_ranges(init_ranges, min_range, max_range)\n",
    "                show_ranges(current_ranges)\n",
    "                print(\"==============================================\")\n",
    "    print(\"END\")\n",
    "    return current_min_code, current_max_code\n"
   ]
  },
  {
   "cell_type": "code",
   "execution_count": 207,
   "metadata": {},
   "outputs": [],
   "source": [
    "def arithmetic_to_binary(num, min_range, max_range):\n",
    "    binary_string = \"0.\"\n",
    "    x = 0\n",
    "    counter = -1\n",
    "    while(True):\n",
    "        num = num * 2\n",
    "        int_part = int(num)\n",
    "        num -= int_part\n",
    "        x += int_part * 2**(counter)\n",
    "        binary_string += str(int_part)\n",
    "        if (x > min_range and x < max_range):\n",
    "            break\n",
    "        counter -= 1\n",
    "        print(x)\n",
    "    return binary_string"
   ]
  },
  {
   "cell_type": "markdown",
   "metadata": {},
   "source": [
    "### Usage"
   ]
  },
  {
   "cell_type": "code",
   "execution_count": 251,
   "metadata": {},
   "outputs": [],
   "source": [
    "# data = [(symbol, count), ... ()]\n",
    "\n",
    "#data = [('A',100), ('B', 100), ('C',100), ('D',500), ('E',200), ('F',100), ('G',50), ('H',50)]\n",
    "data = [('A',0.2), ('B', 0.3), ('C',0.25), ('D',0.25)]\n",
    "\n",
    "\n",
    "# "
   ]
  },
  {
   "cell_type": "code",
   "execution_count": 209,
   "metadata": {},
   "outputs": [
    {
     "name": "stdout",
     "output_type": "stream",
     "text": [
      "[('G', 50), ('H', 50), ('A', 100), ('B', 100), ('C', 100), ('F', 100), ('E', 200), ('D', 500)]\n"
     ]
    }
   ],
   "source": [
    "# data.sort(key=lambda a: a[1])\n",
    "# print(data)"
   ]
  },
  {
   "cell_type": "code",
   "execution_count": 252,
   "metadata": {},
   "outputs": [],
   "source": [
    "freq = [count for symbol,count in data]\n",
    "prob = freq / np.sum(freq)\n",
    "cumulative = np.cumsum(prob)\n",
    "#cumulative = [0.4, 0.7, 1]\n"
   ]
  },
  {
   "cell_type": "code",
   "execution_count": 254,
   "metadata": {},
   "outputs": [
    {
     "name": "stdout",
     "output_type": "stream",
     "text": [
      "------------ RANGES ------------\n",
      "  Symbol  start range  end range\n",
      "0      A         0.00       0.20\n",
      "1      B         0.20       0.50\n",
      "2      C         0.50       0.75\n",
      "3      D         0.75       1.00\n"
     ]
    }
   ],
   "source": [
    "init_r = init_ranges(data,cumulative)\n",
    "show_ranges(init_r)"
   ]
  },
  {
   "cell_type": "code",
   "execution_count": 256,
   "metadata": {},
   "outputs": [
    {
     "name": "stdout",
     "output_type": "stream",
     "text": [
      "symbol: A \n",
      "min= 0.0\n",
      "max = 0.2\n",
      "------------ RANGES ------------\n",
      "  Symbol start range end range\n",
      "0      A         0.0      0.04\n",
      "1      B        0.04       0.1\n",
      "2      C         0.1      0.15\n",
      "3      D        0.15       0.2\n",
      "==============================================\n",
      "symbol: B \n",
      "min= 0.04\n",
      "max = 0.1\n",
      "------------ RANGES ------------\n",
      "  Symbol start range end range\n",
      "0      A        0.04     0.052\n",
      "1      B       0.052      0.07\n",
      "2      C        0.07     0.085\n",
      "3      D       0.085       0.1\n",
      "==============================================\n",
      "symbol: D \n",
      "min= 0.085\n",
      "max = 0.1\n",
      "------------ RANGES ------------\n",
      "  Symbol start range end range\n",
      "0      A       0.085     0.088\n",
      "1      B       0.088    0.0925\n",
      "2      C      0.0925   0.09625\n",
      "3      D     0.09625       0.1\n",
      "==============================================\n",
      "END\n"
     ]
    }
   ],
   "source": [
    "file = \"ABD\"\n",
    "min_code, max_code = encode_arithmetic(file,init_r)"
   ]
  },
  {
   "cell_type": "code",
   "execution_count": 258,
   "metadata": {},
   "outputs": [
    {
     "name": "stdout",
     "output_type": "stream",
     "text": [
      "Arithmetic code for \"ABD\": \n",
      "\tminimum: 0.085, \n",
      "\tmaximum: 0.1\n",
      "Code (average) = 0.0925\n"
     ]
    }
   ],
   "source": [
    "print(f\"Arithmetic code for \\\"{file}\\\": \\n\\tminimum: {min_code}, \\n\\tmaximum: {max_code}\")\n",
    "code = (min_code + max_code) / 2\n",
    "print(f\"Code (average) = {code}\")"
   ]
  },
  {
   "cell_type": "markdown",
   "metadata": {},
   "source": [
    "### converting Float to binary code"
   ]
  },
  {
   "cell_type": "code",
   "execution_count": 259,
   "metadata": {},
   "outputs": [
    {
     "name": "stdout",
     "output_type": "stream",
     "text": [
      "0.0\n",
      "0.0\n",
      "0.0\n",
      "0.0625\n",
      "0.0625\n",
      "0.078125\n",
      "binary code = 0.0001011\n"
     ]
    }
   ],
   "source": [
    "binary_code = arithmetic_to_binary(code, min_code, max_code)\n",
    "print(f\"binary code = {binary_code}\")"
   ]
  },
  {
   "cell_type": "markdown",
   "metadata": {},
   "source": [
    "## Decoding"
   ]
  },
  {
   "cell_type": "code",
   "execution_count": 264,
   "metadata": {},
   "outputs": [],
   "source": [
    "binary_code = '0.01101'"
   ]
  },
  {
   "cell_type": "code",
   "execution_count": 265,
   "metadata": {},
   "outputs": [
    {
     "data": {
      "text/plain": [
       "'01101'"
      ]
     },
     "execution_count": 265,
     "metadata": {},
     "output_type": "execute_result"
    }
   ],
   "source": [
    "str_code = binary_code.split('.')[1]\n",
    "list(str_code)\n",
    "str_code"
   ]
  },
  {
   "cell_type": "code",
   "execution_count": 266,
   "metadata": {},
   "outputs": [
    {
     "name": "stdout",
     "output_type": "stream",
     "text": [
      "number in decimals = 0.40625\n"
     ]
    }
   ],
   "source": [
    "#works only on fractions\n",
    "def bincode_to_decimal(code):\n",
    "    str_code = binary_code.split('.')[1]\n",
    "    number=0\n",
    "    power = -1\n",
    "    for digit in str_code:\n",
    "        if int(digit) == 1:\n",
    "            number += 2** power\n",
    "        power -= 1\n",
    "    return number\n",
    "decimal_code = bincode_to_decimal(str_code)\n",
    "print(f\"number in decimals = {decimal_code}\")"
   ]
  },
  {
   "cell_type": "code",
   "execution_count": 267,
   "metadata": {},
   "outputs": [],
   "source": [
    "def decode_arithmetic(code,ranges):\n",
    "    init_ranges = np.copy(ranges)\n",
    "    current_ranges = init_ranges\n",
    "\n",
    "    decoded_string = \"\"\n",
    "    MAX_ITER = 100\n",
    "    COUNT = 0\n",
    "    while True:\n",
    "        for x in current_ranges:\n",
    "            symbol = x[0]\n",
    "            min_range = float(x[1])\n",
    "            max_range = float(x[2])\n",
    "            if  ((code >= min_range) and (code < max_range)):\n",
    "                print(f\"decoded_symbol: {symbol} \\nmin= {min_range}\\nmax = {max_range}\")\n",
    "                decoded_string += symbol\n",
    "                current_ranges = update_ranges(init_ranges, min_range, max_range)\n",
    "                show_ranges(current_ranges)\n",
    "                print(\"==============================================\")\n",
    "                if np.round(((min_range + max_range) / 2), decimals= 5) == np.round(code,decimals=5):\n",
    "                    print(\"END\")\n",
    "                    return decoded_string\n",
    "            COUNT += 1\n",
    "            if COUNT == MAX_ITER:\n",
    "                return \"Forced Exit\"\n",
    "\n"
   ]
  },
  {
   "cell_type": "code",
   "execution_count": 268,
   "metadata": {},
   "outputs": [
    {
     "name": "stdout",
     "output_type": "stream",
     "text": [
      "decoded_symbol: B \n",
      "min= 0.2\n",
      "max = 0.5\n",
      "------------ RANGES ------------\n",
      "  Symbol start range end range\n",
      "0      A         0.2      0.26\n",
      "1      B        0.26      0.35\n",
      "2      C        0.35     0.425\n",
      "3      D       0.425       0.5\n",
      "==============================================\n",
      "decoded_symbol: C \n",
      "min= 0.35\n",
      "max = 0.425\n",
      "------------ RANGES ------------\n",
      "  Symbol start range end range\n",
      "0      A        0.35     0.365\n",
      "1      B       0.365    0.3875\n",
      "2      C      0.3875   0.40625\n",
      "3      D     0.40625     0.425\n",
      "==============================================\n",
      "decoded_symbol: D \n",
      "min= 0.40625\n",
      "max = 0.425\n",
      "------------ RANGES ------------\n",
      "  Symbol start range end range\n",
      "0      A     0.40625      0.41\n",
      "1      B        0.41   0.41562\n",
      "2      C     0.41562   0.42031\n",
      "3      D     0.42031     0.425\n",
      "==============================================\n",
      "decoded_symbol: A \n",
      "min= 0.40625\n",
      "max = 0.41\n",
      "------------ RANGES ------------\n",
      "  Symbol start range end range\n",
      "0      A     0.40625     0.407\n",
      "1      B       0.407   0.40812\n",
      "2      C     0.40812   0.40906\n",
      "3      D     0.40906      0.41\n",
      "==============================================\n",
      "decoded_symbol: A \n",
      "min= 0.40625\n",
      "max = 0.407\n",
      "------------ RANGES ------------\n",
      "  Symbol start range end range\n",
      "0      A     0.40625    0.4064\n",
      "1      B      0.4064   0.40662\n",
      "2      C     0.40662   0.40681\n",
      "3      D     0.40681     0.407\n",
      "==============================================\n",
      "decoded_symbol: A \n",
      "min= 0.40625\n",
      "max = 0.4064\n",
      "------------ RANGES ------------\n",
      "  Symbol start range end range\n",
      "0      A     0.40625   0.40628\n",
      "1      B     0.40628   0.40632\n",
      "2      C     0.40632   0.40636\n",
      "3      D     0.40636    0.4064\n",
      "==============================================\n",
      "decoded_symbol: A \n",
      "min= 0.40625\n",
      "max = 0.40628\n",
      "------------ RANGES ------------\n",
      "  Symbol start range end range\n",
      "0      A     0.40625   0.40626\n",
      "1      B     0.40626   0.40626\n",
      "2      C     0.40626   0.40627\n",
      "3      D     0.40627   0.40628\n",
      "==============================================\n",
      "decoded_symbol: A \n",
      "min= 0.40625\n",
      "max = 0.40626\n",
      "------------ RANGES ------------\n",
      "  Symbol start range end range\n",
      "0      A     0.40625   0.40625\n",
      "1      B     0.40625   0.40626\n",
      "2      C     0.40626   0.40626\n",
      "3      D     0.40626   0.40626\n",
      "==============================================\n",
      "decoded_symbol: B \n",
      "min= 0.40625\n",
      "max = 0.40626\n",
      "------------ RANGES ------------\n",
      "  Symbol start range end range\n",
      "0      A     0.40625   0.40625\n",
      "1      B     0.40625   0.40626\n",
      "2      C     0.40626   0.40626\n",
      "3      D     0.40626   0.40626\n",
      "==============================================\n",
      "decoded_symbol: B \n",
      "min= 0.40625\n",
      "max = 0.40626\n",
      "------------ RANGES ------------\n",
      "  Symbol start range end range\n",
      "0      A     0.40625   0.40625\n",
      "1      B     0.40625   0.40626\n",
      "2      C     0.40626   0.40626\n",
      "3      D     0.40626   0.40626\n",
      "==============================================\n",
      "decoded_symbol: B \n",
      "min= 0.40625\n",
      "max = 0.40626\n",
      "------------ RANGES ------------\n",
      "  Symbol start range end range\n",
      "0      A     0.40625   0.40625\n",
      "1      B     0.40625   0.40626\n",
      "2      C     0.40626   0.40626\n",
      "3      D     0.40626   0.40626\n",
      "==============================================\n",
      "decoded_symbol: B \n",
      "min= 0.40625\n",
      "max = 0.40626\n",
      "------------ RANGES ------------\n",
      "  Symbol start range end range\n",
      "0      A     0.40625   0.40625\n",
      "1      B     0.40625   0.40626\n",
      "2      C     0.40626   0.40626\n",
      "3      D     0.40626   0.40626\n",
      "==============================================\n",
      "decoded_symbol: B \n",
      "min= 0.40625\n",
      "max = 0.40626\n",
      "------------ RANGES ------------\n",
      "  Symbol start range end range\n",
      "0      A     0.40625   0.40625\n",
      "1      B     0.40625   0.40626\n",
      "2      C     0.40626   0.40626\n",
      "3      D     0.40626   0.40626\n",
      "==============================================\n",
      "decoded_symbol: B \n",
      "min= 0.40625\n",
      "max = 0.40626\n",
      "------------ RANGES ------------\n",
      "  Symbol start range end range\n",
      "0      A     0.40625   0.40625\n",
      "1      B     0.40625   0.40626\n",
      "2      C     0.40626   0.40626\n",
      "3      D     0.40626   0.40626\n",
      "==============================================\n",
      "decoded_symbol: B \n",
      "min= 0.40625\n",
      "max = 0.40626\n",
      "------------ RANGES ------------\n",
      "  Symbol start range end range\n",
      "0      A     0.40625   0.40625\n",
      "1      B     0.40625   0.40626\n",
      "2      C     0.40626   0.40626\n",
      "3      D     0.40626   0.40626\n",
      "==============================================\n",
      "decoded_symbol: B \n",
      "min= 0.40625\n",
      "max = 0.40626\n",
      "------------ RANGES ------------\n",
      "  Symbol start range end range\n",
      "0      A     0.40625   0.40625\n",
      "1      B     0.40625   0.40626\n",
      "2      C     0.40626   0.40626\n",
      "3      D     0.40626   0.40626\n",
      "==============================================\n",
      "decoded_symbol: B \n",
      "min= 0.40625\n",
      "max = 0.40626\n",
      "------------ RANGES ------------\n",
      "  Symbol start range end range\n",
      "0      A     0.40625   0.40625\n",
      "1      B     0.40625   0.40626\n",
      "2      C     0.40626   0.40626\n",
      "3      D     0.40626   0.40626\n",
      "==============================================\n",
      "decoded_symbol: B \n",
      "min= 0.40625\n",
      "max = 0.40626\n",
      "------------ RANGES ------------\n",
      "  Symbol start range end range\n",
      "0      A     0.40625   0.40625\n",
      "1      B     0.40625   0.40626\n",
      "2      C     0.40626   0.40626\n",
      "3      D     0.40626   0.40626\n",
      "==============================================\n",
      "decoded_symbol: B \n",
      "min= 0.40625\n",
      "max = 0.40626\n",
      "------------ RANGES ------------\n",
      "  Symbol start range end range\n",
      "0      A     0.40625   0.40625\n",
      "1      B     0.40625   0.40626\n",
      "2      C     0.40626   0.40626\n",
      "3      D     0.40626   0.40626\n",
      "==============================================\n",
      "decoded_symbol: B \n",
      "min= 0.40625\n",
      "max = 0.40626\n",
      "------------ RANGES ------------\n",
      "  Symbol start range end range\n",
      "0      A     0.40625   0.40625\n",
      "1      B     0.40625   0.40626\n",
      "2      C     0.40626   0.40626\n",
      "3      D     0.40626   0.40626\n",
      "==============================================\n",
      "decoded_symbol: B \n",
      "min= 0.40625\n",
      "max = 0.40626\n",
      "------------ RANGES ------------\n",
      "  Symbol start range end range\n",
      "0      A     0.40625   0.40625\n",
      "1      B     0.40625   0.40626\n",
      "2      C     0.40626   0.40626\n",
      "3      D     0.40626   0.40626\n",
      "==============================================\n",
      "decoded_symbol: B \n",
      "min= 0.40625\n",
      "max = 0.40626\n",
      "------------ RANGES ------------\n",
      "  Symbol start range end range\n",
      "0      A     0.40625   0.40625\n",
      "1      B     0.40625   0.40626\n",
      "2      C     0.40626   0.40626\n",
      "3      D     0.40626   0.40626\n",
      "==============================================\n",
      "decoded_symbol: B \n",
      "min= 0.40625\n",
      "max = 0.40626\n",
      "------------ RANGES ------------\n",
      "  Symbol start range end range\n",
      "0      A     0.40625   0.40625\n",
      "1      B     0.40625   0.40626\n",
      "2      C     0.40626   0.40626\n",
      "3      D     0.40626   0.40626\n",
      "==============================================\n",
      "decoded_symbol: B \n",
      "min= 0.40625\n",
      "max = 0.40626\n",
      "------------ RANGES ------------\n",
      "  Symbol start range end range\n",
      "0      A     0.40625   0.40625\n",
      "1      B     0.40625   0.40626\n",
      "2      C     0.40626   0.40626\n",
      "3      D     0.40626   0.40626\n",
      "==============================================\n",
      "decoded_symbol: B \n",
      "min= 0.40625\n",
      "max = 0.40626\n",
      "------------ RANGES ------------\n",
      "  Symbol start range end range\n",
      "0      A     0.40625   0.40625\n",
      "1      B     0.40625   0.40626\n",
      "2      C     0.40626   0.40626\n",
      "3      D     0.40626   0.40626\n",
      "==============================================\n"
     ]
    },
    {
     "data": {
      "text/plain": [
       "'Forced Exit'"
      ]
     },
     "execution_count": 268,
     "metadata": {},
     "output_type": "execute_result"
    }
   ],
   "source": [
    "decoded_string = decode_arithmetic(decimal_code,init_r)\n",
    "decoded_string"
   ]
  },
  {
   "cell_type": "markdown",
   "metadata": {},
   "source": [
    "### To DO\n",
    "\n",
    "handling Forced Exit problem in Decoding"
   ]
  }
 ],
 "metadata": {
  "kernelspec": {
   "display_name": "Python 3",
   "language": "python",
   "name": "python3"
  },
  "language_info": {
   "codemirror_mode": {
    "name": "ipython",
    "version": 3
   },
   "file_extension": ".py",
   "mimetype": "text/x-python",
   "name": "python",
   "nbconvert_exporter": "python",
   "pygments_lexer": "ipython3",
   "version": "3.10.8"
  }
 },
 "nbformat": 4,
 "nbformat_minor": 2
}
